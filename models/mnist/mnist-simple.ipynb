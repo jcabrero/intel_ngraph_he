{
 "cells": [
  {
   "cell_type": "code",
   "execution_count": 1,
   "metadata": {},
   "outputs": [
    {
     "name": "stderr",
     "output_type": "stream",
     "text": [
      "/root/he-transformer/build/ext_ngraph_tf/src/ext_ngraph_tf/build_cmake/venv-tf-py3/lib/python3.6/site-packages/tensorflow/python/framework/dtypes.py:516: FutureWarning: Passing (type, 1) or '1type' as a synonym of type is deprecated; in a future version of numpy, it will be understood as (type, (1,)) / '(1,)type'.\n",
      "  _np_qint8 = np.dtype([(\"qint8\", np.int8, 1)])\n",
      "/root/he-transformer/build/ext_ngraph_tf/src/ext_ngraph_tf/build_cmake/venv-tf-py3/lib/python3.6/site-packages/tensorflow/python/framework/dtypes.py:517: FutureWarning: Passing (type, 1) or '1type' as a synonym of type is deprecated; in a future version of numpy, it will be understood as (type, (1,)) / '(1,)type'.\n",
      "  _np_quint8 = np.dtype([(\"quint8\", np.uint8, 1)])\n",
      "/root/he-transformer/build/ext_ngraph_tf/src/ext_ngraph_tf/build_cmake/venv-tf-py3/lib/python3.6/site-packages/tensorflow/python/framework/dtypes.py:518: FutureWarning: Passing (type, 1) or '1type' as a synonym of type is deprecated; in a future version of numpy, it will be understood as (type, (1,)) / '(1,)type'.\n",
      "  _np_qint16 = np.dtype([(\"qint16\", np.int16, 1)])\n",
      "/root/he-transformer/build/ext_ngraph_tf/src/ext_ngraph_tf/build_cmake/venv-tf-py3/lib/python3.6/site-packages/tensorflow/python/framework/dtypes.py:519: FutureWarning: Passing (type, 1) or '1type' as a synonym of type is deprecated; in a future version of numpy, it will be understood as (type, (1,)) / '(1,)type'.\n",
      "  _np_quint16 = np.dtype([(\"quint16\", np.uint16, 1)])\n",
      "/root/he-transformer/build/ext_ngraph_tf/src/ext_ngraph_tf/build_cmake/venv-tf-py3/lib/python3.6/site-packages/tensorflow/python/framework/dtypes.py:520: FutureWarning: Passing (type, 1) or '1type' as a synonym of type is deprecated; in a future version of numpy, it will be understood as (type, (1,)) / '(1,)type'.\n",
      "  _np_qint32 = np.dtype([(\"qint32\", np.int32, 1)])\n",
      "/root/he-transformer/build/ext_ngraph_tf/src/ext_ngraph_tf/build_cmake/venv-tf-py3/lib/python3.6/site-packages/tensorflow/python/framework/dtypes.py:525: FutureWarning: Passing (type, 1) or '1type' as a synonym of type is deprecated; in a future version of numpy, it will be understood as (type, (1,)) / '(1,)type'.\n",
      "  np_resource = np.dtype([(\"resource\", np.ubyte, 1)])\n",
      "/root/he-transformer/build/ext_ngraph_tf/src/ext_ngraph_tf/build_cmake/venv-tf-py3/lib/python3.6/site-packages/tensorboard/compat/tensorflow_stub/dtypes.py:541: FutureWarning: Passing (type, 1) or '1type' as a synonym of type is deprecated; in a future version of numpy, it will be understood as (type, (1,)) / '(1,)type'.\n",
      "  _np_qint8 = np.dtype([(\"qint8\", np.int8, 1)])\n",
      "/root/he-transformer/build/ext_ngraph_tf/src/ext_ngraph_tf/build_cmake/venv-tf-py3/lib/python3.6/site-packages/tensorboard/compat/tensorflow_stub/dtypes.py:542: FutureWarning: Passing (type, 1) or '1type' as a synonym of type is deprecated; in a future version of numpy, it will be understood as (type, (1,)) / '(1,)type'.\n",
      "  _np_quint8 = np.dtype([(\"quint8\", np.uint8, 1)])\n",
      "/root/he-transformer/build/ext_ngraph_tf/src/ext_ngraph_tf/build_cmake/venv-tf-py3/lib/python3.6/site-packages/tensorboard/compat/tensorflow_stub/dtypes.py:543: FutureWarning: Passing (type, 1) or '1type' as a synonym of type is deprecated; in a future version of numpy, it will be understood as (type, (1,)) / '(1,)type'.\n",
      "  _np_qint16 = np.dtype([(\"qint16\", np.int16, 1)])\n",
      "/root/he-transformer/build/ext_ngraph_tf/src/ext_ngraph_tf/build_cmake/venv-tf-py3/lib/python3.6/site-packages/tensorboard/compat/tensorflow_stub/dtypes.py:544: FutureWarning: Passing (type, 1) or '1type' as a synonym of type is deprecated; in a future version of numpy, it will be understood as (type, (1,)) / '(1,)type'.\n",
      "  _np_quint16 = np.dtype([(\"quint16\", np.uint16, 1)])\n",
      "/root/he-transformer/build/ext_ngraph_tf/src/ext_ngraph_tf/build_cmake/venv-tf-py3/lib/python3.6/site-packages/tensorboard/compat/tensorflow_stub/dtypes.py:545: FutureWarning: Passing (type, 1) or '1type' as a synonym of type is deprecated; in a future version of numpy, it will be understood as (type, (1,)) / '(1,)type'.\n",
      "  _np_qint32 = np.dtype([(\"qint32\", np.int32, 1)])\n",
      "/root/he-transformer/build/ext_ngraph_tf/src/ext_ngraph_tf/build_cmake/venv-tf-py3/lib/python3.6/site-packages/tensorboard/compat/tensorflow_stub/dtypes.py:550: FutureWarning: Passing (type, 1) or '1type' as a synonym of type is deprecated; in a future version of numpy, it will be understood as (type, (1,)) / '(1,)type'.\n",
      "  np_resource = np.dtype([(\"resource\", np.ubyte, 1)])\n"
     ]
    }
   ],
   "source": [
    "import time, os\n",
    "\n",
    "# Numpy\n",
    "import numpy as np\n",
    "import scipy\n",
    "import sklearn\n",
    "import pandas as pd\n",
    "\n",
    "# Tensorflow and keras layers\n",
    "import tensorflow as tf\n",
    "from tensorflow.keras import layers\n",
    "from tensorflow.keras.layers import Input, Dense,\\\n",
    "                                    Activation, ZeroPadding2D,\\\n",
    "                                    BatchNormalization, Flatten, Conv2D, Conv2DTranspose, Reshape\n",
    "from tensorflow.keras.layers import AveragePooling2D, MaxPooling2D,\\\n",
    "                                    Dropout, GlobalMaxPooling2D,\\\n",
    "                                    GlobalAveragePooling2D\n",
    "\n",
    "from tensorflow.keras.optimizers import SGD, RMSprop, Adam, Nadam\n",
    "from tensorflow.keras.models import Model, load_model\n",
    "from tensorflow.keras import activations\n",
    "from tensorflow.keras import backend\n",
    "\n",
    "# To generate GIFs\n",
    "\n",
    "\n",
    "import glob\n",
    "import imageio\n",
    "import matplotlib.pyplot as plt\n",
    "import numpy as np\n",
    "import os\n",
    "import PIL\n",
    "from tensorflow.keras import layers\n",
    "import time\n",
    "from datetime import datetime\n",
    "\n",
    "from tqdm import tqdm\n",
    "\n",
    "import IPython\n",
    "from IPython import display\n",
    "import ipywidgets as widgets\n",
    "\n",
    "import ngraph_bridge\n",
    "\n",
    "# For loading and making use of HE Transformer\n",
    "from tensorflow.core.protobuf import rewriter_config_pb2\n",
    "from tensorflow.python.tools import freeze_graph\n",
    "import json\n"
   ]
  },
  {
   "cell_type": "code",
   "execution_count": 2,
   "metadata": {},
   "outputs": [
    {
     "name": "stdout",
     "output_type": "stream",
     "text": [
      "Directory  models  already exists\n"
     ]
    }
   ],
   "source": [
    "def create_mnist_npy():\n",
    "    mnist = tf.keras.datasets.mnist\n",
    "    (x_train, y_train), (x_test, y_test) = mnist.load_data()\n",
    "    X = np.concatenate([x_train, x_test]).reshape(-1, 28*28)\n",
    "    Y = np.concatenate([y_train, y_test]).reshape(-1, 1)\n",
    "    #print(X.shape, Y.shape)\n",
    "    T = np.concatenate([X, Y], axis=1)\n",
    "    np.save(\"mnist.npy\", T)\n",
    "\n",
    "def load_mnist():\n",
    "    T = np.load('mnist.npy')\n",
    "    X = T[:, :-1].reshape(-1, 28, 28)\n",
    "    Y = T[:, -1]\n",
    "    x_train, x_test = X[:-10000], X[-10000:]\n",
    "    y_train, y_test = Y[:-10000], Y[-10000:]\n",
    "    y_train = tf.compat.v1.keras.utils.to_categorical(y_train, num_classes=10)\n",
    "    y_test = tf.compat.v1.keras.utils.to_categorical(y_test, num_classes=10)\n",
    "    #print(y_train.shape, y_test.shape, y_train)\n",
    "    x_train = np.expand_dims(x_train, axis=-1)\n",
    "    x_test = np.expand_dims(x_test, axis=-1)\n",
    "    x_train = x_train.astype(\"float32\")\n",
    "    x_test = x_test.astype(\"float32\")\n",
    "    x_train /= 255.0\n",
    "    x_test /= 255.0\n",
    "    return (x_train, y_train, x_test, y_test)\n",
    "\n",
    "def create_dir(dirname):\n",
    "    try:\n",
    "        # Create target Directory\n",
    "        os.mkdir(dirname)\n",
    "        #print(\"dirname \" , filename ,  \" Created \") \n",
    "    except FileExistsError:\n",
    "        print(\"Directory \" , dirname ,  \" already exists\")\n",
    "\n",
    "create_dir('models')\n",
    "\n",
    "def plot_4_by_4_images(x, save = False, savefile=\"img.png\"):\n",
    "    w=10\n",
    "    h=10\n",
    "    fig=plt.figure(figsize=(w, h))\n",
    "    columns = 4\n",
    "    rows = 5\n",
    "    for i in range(1, columns*rows +1):\n",
    "        img = np.random.randint(x.shape[0])\n",
    "        fig.add_subplot(rows, columns, i)\n",
    "        plt.imshow(x[i - 1, :, :, 0], cmap='gray')\n",
    "    if save:\n",
    "        plt.savefig(savefile)\n",
    "    plt.show()\n",
    "    plt.close()\n",
    "\n",
    "\n",
    "def plot_image(img):\n",
    "    plt.imshow(img, cmap='gray')\n",
    "    \n",
    "def generate_noise_samples(n=1):\n",
    "    noise = np.random.normal(0, 1, (n, 100))\n",
    "    return noise\n",
    "\n",
    "\n",
    "def generate_fake_samples(generator, n=1):\n",
    "    noise = generate_noise_samples(n)\n",
    "    X = generator.predict(noise)\n",
    "    return X\n",
    "\n",
    "\n",
    "def generate_and_save_images(generator, noise_test, epoch, filename):\n",
    "    display.clear_output(wait=True)\n",
    "    fake_images = generator.predict(noise_test)\n",
    "    plot_4_by_4_images(fake_images, save=True, savefile='models/{}/img/{:04d}.png'.format(filename, epoch))\n",
    "\n",
    "    \n",
    "def train_step(generator, discriminator, gan, real_images, batch_size=64):\n",
    "    real_label = np.ones((batch_size, 1))\n",
    "    generated_images = generate_fake_samples(generator, batch_size)\n",
    "    generated_labels = np.zeros((batch_size, 1))\n",
    "\n",
    "    X_dis = np.concatenate([real_images, generated_images])\n",
    "    y_dis = np.zeros(2*batch_size)\n",
    "    y_dis[:batch_size]=0.9\n",
    "        \n",
    "    discriminator.trainable = True\n",
    "    discriminator.train_on_batch(X_dis, y_dis)\n",
    "    #discriminator.train_on_batch(x_fake, y_fake)\n",
    "        \n",
    "    discriminator.trainable = False\n",
    "    x_gan = generate_noise_samples(batch_size)\n",
    "    y_gan = np.ones((batch_size, 1)) # We assume that we wanted true as answer from the discriminator\n",
    "    gan.train_on_batch(x_gan, y_gan)\n",
    "\n",
    "def gen_csv(data_list, filename):\n",
    "    pd.DataFrame(data_list, \n",
    "                 columns =['Epoch', 'Time (s)']).to_csv ('models/%s/times.csv'%(filename), index = False, header=True)\n",
    "\n",
    "def train(generator, discriminator, gan, dataset, epochs=50, batch_size=64, filename=str(int(time.time()))):\n",
    "    m = dataset.shape[0]\n",
    "    m_batch = m // batch_size\n",
    "    noise_test = np.random.normal(0,1, [20, 100])\n",
    "    toc = time.time()\n",
    "    time_data = []\n",
    "    for epoch in range(epochs):\n",
    "        tic = time.time()\n",
    "        for batch_num in range(m_batch):\n",
    "            tuc = time.time()\n",
    "            #if batch_num % 30 == 0:\n",
    "                #print ('[{}%] Time for epoch {} is {} sec'.format((batch_num / m_batch) * 100,epoch + 1, time.time()-tic), end='\\r')\n",
    "                #generate_and_save_images(noise_test, epoch, batch_num)\n",
    "                #print(\"[%0.2f%%] Time for epoch %d is %f sec\" % ( (batch_num / m_batch) * 100, epoch + 1, time.time()-tic), end='\\r')\n",
    "            \n",
    "            batch_slot = batch_size * batch_num\n",
    "            batch = dataset[batch_slot: batch_slot + batch_size]\n",
    "            train_step(generator, discriminator, gan, batch, batch_size)\n",
    "        time_data.append((epoch + 1, time.time()-tic))\n",
    "        generate_and_save_images(generator, noise_test, epoch, filename)\n",
    "        print ('Time for epoch {} is {} sec'.format(epoch + 1, time_data[-1][1]))\n",
    "    \n",
    "    gen_csv(time_data, filename)\n",
    "    generator.save('models/%s/generator.h5' % (filename))\n",
    "    discriminator.save('models/%s/discriminator.h5' % (filename))\n",
    "    gan.save('models/%s/gan.h5' % (filename))\n",
    "\n",
    "    \n",
    "def make_gif(anim_file, file_regex):\n",
    "    #anim_file = 'dcgan.gif'\n",
    "    fname = None\n",
    "    with imageio.get_writer(anim_file, mode='I') as writer:\n",
    "        filenames = glob.glob(file_regex)\n",
    "        filenames = sorted(filenames)\n",
    "        last = -1\n",
    "        for i,filename in enumerate(filenames):\n",
    "            frame = 2*(i**0.75)\n",
    "            if round(frame) > round(last):\n",
    "                last = frame\n",
    "            else:\n",
    "                continue\n",
    "            image = imageio.imread(filename)\n",
    "            writer.append_data(image)\n",
    "        image = imageio.imread(filename)\n",
    "        writer.append_data(image)\n",
    "\n",
    "        \n",
    "def format_filename(filename):\n",
    "    date = datetime.now()\n",
    "    date_str = \"_%02d_%02d_%02d_%02d_%02d\" % (date.day, date.month, date.year, date.hour, date.minute)\n",
    "    create_dir('models/'+ filename)\n",
    "    create_dir('models/'+ filename +\"/img\")\n",
    "    return filename"
   ]
  },
  {
   "cell_type": "code",
   "execution_count": 3,
   "metadata": {},
   "outputs": [],
   "source": [
    "def print_nodes(graph_def=None):\n",
    "    \"\"\"Prints the node names of a graph_def.\n",
    "        If graph_def is not provided, use default graph_def\"\"\"\n",
    "\n",
    "    if graph_def is None:\n",
    "        nodes = [n.name for n in tf.get_default_graph().as_graph_def().node]\n",
    "    else:\n",
    "        nodes = [n.name for n in graph_def.node]\n",
    "\n",
    "    print(\"nodes\", nodes)\n",
    "\n",
    "# https://www.dlology.com/blog/how-to-convert-trained-keras-model-to-tensorflow-and-make-prediction/\n",
    "def freeze_session(session,\n",
    "                   keep_var_names=None,\n",
    "                   output_names=None,\n",
    "                   clear_devices=True):\n",
    "    \"\"\"\n",
    "    Freezes the state of a session into a pruned computation graph.\n",
    "\n",
    "    Creates a new computation graph where variable nodes are replaced by\n",
    "    constants taking their current value in the session. The new graph will be\n",
    "    pruned so subgraphs that are not necessary to compute the requested\n",
    "    outputs are removed.\n",
    "    @param session The TensorFlow session to be frozen.\n",
    "    @param keep_var_names A list of variable names that should not be frozen,\n",
    "                          or None to freeze all the variables in the graph.\n",
    "    @param output_names Names of the relevant graph outputs.\n",
    "    @param clear_devices Remove the device directives from the graph for better portability.\n",
    "    @return The frozen graph definition.\n",
    "    \"\"\"\n",
    "    from tensorflow.python.framework.graph_util import (\n",
    "        convert_variables_to_constants,\n",
    "        remove_training_nodes,\n",
    "    )\n",
    "\n",
    "    graph = session.graph\n",
    "    with graph.as_default():\n",
    "        freeze_var_names = list(\n",
    "            set(v.op.name for v in tf.global_variables()).difference(\n",
    "                keep_var_names or []))\n",
    "        output_names = output_names or []\n",
    "        output_names += [v.op.name for v in tf.global_variables()]\n",
    "        # Graph -> GraphDef ProtoBuf\n",
    "        input_graph_def = graph.as_graph_def()\n",
    "        print_nodes(input_graph_def)\n",
    "        if clear_devices:\n",
    "            for node in input_graph_def.node:\n",
    "                node.device = \"\"\n",
    "        frozen_graph = convert_variables_to_constants(\n",
    "            session, input_graph_def, output_names, freeze_var_names)\n",
    "        frozen_graph = remove_training_nodes(frozen_graph)\n",
    "        return frozen_graph\n",
    "\n",
    "def save_model(sess, output_names, directory, filename):\n",
    "    frozen_graph = freeze_session(sess, output_names=output_names)\n",
    "    print_nodes(frozen_graph)\n",
    "    tf.io.write_graph(frozen_graph, directory, filename + \".pb\", as_text=False)\n",
    "    print(\"Model saved to: %s\" % filename + \".pb\")\n",
    "\n",
    "    \n",
    "def load_pb_file(filename):\n",
    "    \"\"\"\"Returns the graph_def from a saved protobuf file\"\"\"\n",
    "    if not os.path.isfile(filename):\n",
    "        raise Exception(\"File, \" + filename + \" does not exist\")\n",
    "\n",
    "    with tf.io.gfile.GFile(filename, \"rb\") as f:\n",
    "        graph_def = tf.compat.v1.GraphDef()\n",
    "        graph_def.ParseFromString(f.read())\n",
    "\n",
    "    print(\"Model restored\")\n",
    "    return graph_def"
   ]
  },
  {
   "cell_type": "markdown",
   "metadata": {},
   "source": [
    "## Loading the dataset"
   ]
  },
  {
   "cell_type": "code",
   "execution_count": 4,
   "metadata": {},
   "outputs": [
    {
     "data": {
      "image/png": "[encoded data removed]",
      "text/plain": [
       "<Figure size 720x720 with 20 Axes>"
      ]
     },
     "metadata": {
      "needs_background": "light"
     },
     "output_type": "display_data"
    }
   ],
   "source": [
    "(x_train, y_train, x_test, y_test) = load_mnist()\n",
    "plot_4_by_4_images(x_train)"
   ]
  },
  {
   "cell_type": "markdown",
   "metadata": {},
   "source": [
    "## Model\n",
    "The cell below includes the cryptonets model. It is composed of the following:\n",
    "1. A convolutional layer , with 5 filters of size 5x5, same padding and stride 2. $n^{[l]} = \\dfrac{(n^{[l-1]} + 2 * p^{[l]} - f^{[l]})}{s^{[l]}} + 1$.\n",
    " - Input: 28 x 28 x 1\n",
    " - Output: 14 x 14 x 5\n",
    "2. A square activation function $g(x) = x^2$\n",
    "3. An average pooling layer with 1 stride and same padding. $n^{[l]} = \\dfrac{(n^{[l-1]} - f^{[l]})}{s^{[l]}} + 1$.\n",
    " - Input: 14 x 14 x 5\n",
    " - Output: 14 x 14 x5\n",
    "4. Another convolutional layer , with 50 filters of size 5x5, same padding and stride 2. $n^{[l]} = \\dfrac{(n^{[l-1]} + 2 * p^{[l]} - f^{[l]})}{s^{[l]}} + 1$.\n",
    " - Input: 14 x 14 x 5\n",
    " - Output: 7 x 7 x 50\n",
    "5. Another average pooling layer.\n",
    " - Input: 7 x 7 x 50\n",
    " - Output: 7 x 7 x 50\n",
    "6. A flattening layer, thus resulting in 7 x 7 x 50 = 2450 input attributes to the dense layer\n",
    "7. A dense layer whose output is 100 from 2450\n",
    "8. Another square activation layer\n",
    "9. A final dense layer without any activation after it."
   ]
  },
  {
   "cell_type": "code",
   "execution_count": 5,
   "metadata": {},
   "outputs": [],
   "source": [
    "def mnist_mlp_model(input):\n",
    "    y = Conv2D(\n",
    "        filters=5,\n",
    "        kernel_size=(5, 5),\n",
    "        strides=(2, 2),\n",
    "        padding=\"same\",\n",
    "        use_bias=True,\n",
    "        input_shape=(28, 28, 1),\n",
    "    )(input)\n",
    "    y = Activation(\"relu\")(y)\n",
    "\n",
    "    y = MaxPooling2D(pool_size=(3, 3))(y)\n",
    "\n",
    "    y = Conv2D(\n",
    "        filters=50,\n",
    "        kernel_size=(5, 5),\n",
    "        strides=(2, 2),\n",
    "        padding=\"same\",\n",
    "        use_bias=True,\n",
    "    )(y)\n",
    "    y = Activation(\"relu\")(y)\n",
    "\n",
    "    known_shape = y.get_shape()[1:]\n",
    "    size = np.prod(known_shape)\n",
    "    print('size', size)\n",
    "\n",
    "    # Using Keras model API with Flatten results in split ngraph at Flatten() or Reshape() op.\n",
    "    # Use tf.reshape instead\n",
    "    y = tf.reshape(y, [-1, size])\n",
    "\n",
    "    y = Dense(100, use_bias=True)(y)\n",
    "    y = Activation(\"relu\")(y)\n",
    "    y = Dense(10, use_bias=True, name=\"output\")(y)\n",
    "\n",
    "    return y\n"
   ]
  },
  {
   "cell_type": "markdown",
   "metadata": {},
   "source": [
    "### Creating the model\n",
    "The model is created in a \"tensorflow-like\" way. We use the Keras layers to pass through them a placeholder input."
   ]
  },
  {
   "cell_type": "code",
   "execution_count": 6,
   "metadata": {},
   "outputs": [
    {
     "name": "stdout",
     "output_type": "stream",
     "text": [
      "size 200\n",
      "Model: \"model\"\n",
      "_________________________________________________________________\n",
      "Layer (type)                 Output Shape              Param #   \n",
      "=================================================================\n",
      "input (InputLayer)           [(None, 28, 28, 1)]       0         \n",
      "_________________________________________________________________\n",
      "conv2d (Conv2D)              (None, 14, 14, 5)         130       \n",
      "_________________________________________________________________\n",
      "activation (Activation)      (None, 14, 14, 5)         0         \n",
      "_________________________________________________________________\n",
      "max_pooling2d (MaxPooling2D) (None, 4, 4, 5)           0         \n",
      "_________________________________________________________________\n",
      "conv2d_1 (Conv2D)            (None, 2, 2, 50)          6300      \n",
      "_________________________________________________________________\n",
      "activation_1 (Activation)    (None, 2, 2, 50)          0         \n",
      "_________________________________________________________________\n",
      "tf_op_layer_Reshape (TensorF [(None, 200)]             0         \n",
      "_________________________________________________________________\n",
      "dense (Dense)                (None, 100)               20100     \n",
      "_________________________________________________________________\n",
      "activation_2 (Activation)    (None, 100)               0         \n",
      "_________________________________________________________________\n",
      "output (Dense)               (None, 10)                1010      \n",
      "=================================================================\n",
      "Total params: 27,540\n",
      "Trainable params: 27,540\n",
      "Non-trainable params: 0\n",
      "_________________________________________________________________\n",
      "None\n"
     ]
    }
   ],
   "source": [
    "x = Input(shape=(28, 28, 1), name=\"input\")\n",
    "y = mnist_mlp_model(x)\n",
    "mnist_mlp = Model(inputs=x, outputs=y)\n",
    "print(mnist_mlp.summary())"
   ]
  },
  {
   "cell_type": "markdown",
   "metadata": {},
   "source": [
    "### Training the model\n",
    "We first define the loss and the optimizer that we are going to make use of. "
   ]
  },
  {
   "cell_type": "code",
   "execution_count": 7,
   "metadata": {},
   "outputs": [],
   "source": [
    "def loss(labels, logits):\n",
    "    return tf.keras.losses.categorical_crossentropy(labels, logits, from_logits=True)\n",
    "\n",
    "optimizer = SGD(learning_rate=0.008, momentum=0.9)\n",
    "mnist_mlp.compile(optimizer=optimizer, loss=loss, metrics=[\"accuracy\"])"
   ]
  },
  {
   "cell_type": "markdown",
   "metadata": {},
   "source": [
    "Then, we train the model:"
   ]
  },
  {
   "cell_type": "code",
   "execution_count": 8,
   "metadata": {
    "scrolled": true
   },
   "outputs": [
    {
     "name": "stdout",
     "output_type": "stream",
     "text": [
      "Train on 60000 samples, validate on 10000 samples\n",
      "Epoch 1/10\n",
      "60000/60000 [==============================] - 8s 130us/sample - loss: 0.4691 - acc: 0.8578 - val_loss: 0.1415 - val_acc: 0.9562\n",
      "Epoch 2/10\n",
      "60000/60000 [==============================] - 8s 134us/sample - loss: 0.1343 - acc: 0.9579 - val_loss: 0.1179 - val_acc: 0.9617\n",
      "Epoch 3/10\n",
      "60000/60000 [==============================] - 8s 134us/sample - loss: 0.1076 - acc: 0.9662 - val_loss: 0.0912 - val_acc: 0.9707\n",
      "Epoch 4/10\n",
      "60000/60000 [==============================] - 8s 136us/sample - loss: 0.0936 - acc: 0.9705 - val_loss: 0.0815 - val_acc: 0.9727\n",
      "Epoch 5/10\n",
      "60000/60000 [==============================] - 8s 135us/sample - loss: 0.0825 - acc: 0.9746 - val_loss: 0.0772 - val_acc: 0.9760\n",
      "Epoch 6/10\n",
      "60000/60000 [==============================] - 8s 133us/sample - loss: 0.0756 - acc: 0.9757 - val_loss: 0.0767 - val_acc: 0.9765\n",
      "Epoch 7/10\n",
      "60000/60000 [==============================] - 8s 131us/sample - loss: 0.0692 - acc: 0.9783 - val_loss: 0.0694 - val_acc: 0.9780\n",
      "Epoch 8/10\n",
      "60000/60000 [==============================] - 8s 131us/sample - loss: 0.0639 - acc: 0.9795 - val_loss: 0.0686 - val_acc: 0.9781\n",
      "Epoch 9/10\n",
      "60000/60000 [==============================] - 8s 125us/sample - loss: 0.0578 - acc: 0.9824 - val_loss: 0.0713 - val_acc: 0.9781\n",
      "Epoch 10/10\n",
      "60000/60000 [==============================] - 7s 121us/sample - loss: 0.0542 - acc: 0.9827 - val_loss: 0.0691 - val_acc: 0.9800\n"
     ]
    },
    {
     "data": {
      "text/plain": [
       "<tensorflow.python.keras.callbacks.History at 0x7f91b359eb00>"
      ]
     },
     "execution_count": 8,
     "metadata": {},
     "output_type": "execute_result"
    }
   ],
   "source": [
    "mnist_mlp.fit(x_train, y_train, \n",
    "                     epochs=10, batch_size=64, \n",
    "                     validation_data=(x_test, y_test), \n",
    "                     verbose=1)"
   ]
  },
  {
   "cell_type": "markdown",
   "metadata": {},
   "source": [
    "We save the model:"
   ]
  },
  {
   "cell_type": "code",
   "execution_count": 9,
   "metadata": {
    "scrolled": true
   },
   "outputs": [],
   "source": [
    "#mnist_mlp.save('models/mnist_mlp.h5')\n",
    "#tf.saved_model.save(mnist_mlp, 'models/mnist_mlp')"
   ]
  },
  {
   "cell_type": "code",
   "execution_count": 10,
   "metadata": {},
   "outputs": [
    {
     "name": "stdout",
     "output_type": "stream",
     "text": [
      "10000/10000 [==============================] - 1s 98us/sample - loss: 0.0691 - acc: 0.9800\n"
     ]
    }
   ],
   "source": [
    "test_loss, test_acc = mnist_mlp.evaluate(x_test, y_test, verbose=1)"
   ]
  },
  {
   "cell_type": "code",
   "execution_count": 11,
   "metadata": {},
   "outputs": [
    {
     "name": "stdout",
     "output_type": "stream",
     "text": [
      "nodes ['input', 'conv2d/kernel/Initializer/random_uniform/shape', 'conv2d/kernel/Initializer/random_uniform/min', 'conv2d/kernel/Initializer/random_uniform/max', 'conv2d/kernel/Initializer/random_uniform/RandomUniform', 'conv2d/kernel/Initializer/random_uniform/sub', 'conv2d/kernel/Initializer/random_uniform/mul', 'conv2d/kernel/Initializer/random_uniform', 'conv2d/kernel', 'conv2d/kernel/IsInitialized/VarIsInitializedOp', 'conv2d/kernel/Assign', 'conv2d/kernel/Read/ReadVariableOp', 'conv2d/bias/Initializer/zeros', 'conv2d/bias', 'conv2d/bias/IsInitialized/VarIsInitializedOp', 'conv2d/bias/Assign', 'conv2d/bias/Read/ReadVariableOp', 'conv2d/dilation_rate', 'conv2d/Conv2D/ReadVariableOp', 'conv2d/Conv2D', 'conv2d/BiasAdd/ReadVariableOp', 'conv2d/BiasAdd', 'activation/Relu', 'max_pooling2d/MaxPool', 'conv2d_1/kernel/Initializer/random_uniform/shape', 'conv2d_1/kernel/Initializer/random_uniform/min', 'conv2d_1/kernel/Initializer/random_uniform/max', 'conv2d_1/kernel/Initializer/random_uniform/RandomUniform', 'conv2d_1/kernel/Initializer/random_uniform/sub', 'conv2d_1/kernel/Initializer/random_uniform/mul', 'conv2d_1/kernel/Initializer/random_uniform', 'conv2d_1/kernel', 'conv2d_1/kernel/IsInitialized/VarIsInitializedOp', 'conv2d_1/kernel/Assign', 'conv2d_1/kernel/Read/ReadVariableOp', 'conv2d_1/bias/Initializer/zeros', 'conv2d_1/bias', 'conv2d_1/bias/IsInitialized/VarIsInitializedOp', 'conv2d_1/bias/Assign', 'conv2d_1/bias/Read/ReadVariableOp', 'conv2d_1/dilation_rate', 'conv2d_1/Conv2D/ReadVariableOp', 'conv2d_1/Conv2D', 'conv2d_1/BiasAdd/ReadVariableOp', 'conv2d_1/BiasAdd', 'activation_1/Relu', 'Reshape/shape', 'Reshape', 'group_deps', 'VarIsInitializedOp', 'VarIsInitializedOp_1', 'VarIsInitializedOp_2', 'VarIsInitializedOp_3', 'init', 'dense/kernel/Initializer/random_uniform/shape', 'dense/kernel/Initializer/random_uniform/min', 'dense/kernel/Initializer/random_uniform/max', 'dense/kernel/Initializer/random_uniform/RandomUniform', 'dense/kernel/Initializer/random_uniform/sub', 'dense/kernel/Initializer/random_uniform/mul', 'dense/kernel/Initializer/random_uniform', 'dense/kernel', 'dense/kernel/IsInitialized/VarIsInitializedOp', 'dense/kernel/Assign', 'dense/kernel/Read/ReadVariableOp', 'dense/bias/Initializer/zeros', 'dense/bias', 'dense/bias/IsInitialized/VarIsInitializedOp', 'dense/bias/Assign', 'dense/bias/Read/ReadVariableOp', 'dense/MatMul/ReadVariableOp', 'dense/MatMul', 'dense/BiasAdd/ReadVariableOp', 'dense/BiasAdd', 'activation_2/Relu', 'output/kernel/Initializer/random_uniform/shape', 'output/kernel/Initializer/random_uniform/min', 'output/kernel/Initializer/random_uniform/max', 'output/kernel/Initializer/random_uniform/RandomUniform', 'output/kernel/Initializer/random_uniform/sub', 'output/kernel/Initializer/random_uniform/mul', 'output/kernel/Initializer/random_uniform', 'output/kernel', 'output/kernel/IsInitialized/VarIsInitializedOp', 'output/kernel/Assign', 'output/kernel/Read/ReadVariableOp', 'output/bias/Initializer/zeros', 'output/bias', 'output/bias/IsInitialized/VarIsInitializedOp', 'output/bias/Assign', 'output/bias/Read/ReadVariableOp', 'output/MatMul/ReadVariableOp', 'output/MatMul', 'output/BiasAdd/ReadVariableOp', 'output/BiasAdd', 'output_target', 'total/Initializer/zeros', 'total', 'total/IsInitialized/VarIsInitializedOp', 'total/Assign', 'total/Read/ReadVariableOp', 'count/Initializer/zeros', 'count', 'count/IsInitialized/VarIsInitializedOp', 'count/Assign', 'count/Read/ReadVariableOp', 'metrics/acc/ArgMax/dimension', 'metrics/acc/ArgMax', 'metrics/acc/ArgMax_1/dimension', 'metrics/acc/ArgMax_1', 'metrics/acc/Equal', 'metrics/acc/Cast', 'metrics/acc/Const', 'metrics/acc/Sum', 'metrics/acc/AssignAddVariableOp', 'metrics/acc/ReadVariableOp', 'metrics/acc/Size', 'metrics/acc/Cast_1', 'metrics/acc/AssignAddVariableOp_1', 'metrics/acc/ReadVariableOp_1', 'metrics/acc/div_no_nan/ReadVariableOp', 'metrics/acc/div_no_nan/ReadVariableOp_1', 'metrics/acc/div_no_nan', 'metrics/acc/Identity', 'loss/output_loss/Const', 'loss/output_loss/softmax_cross_entropy_with_logits/Rank', 'loss/output_loss/softmax_cross_entropy_with_logits/Shape', 'loss/output_loss/softmax_cross_entropy_with_logits/Rank_1', 'loss/output_loss/softmax_cross_entropy_with_logits/Shape_1', 'loss/output_loss/softmax_cross_entropy_with_logits/Sub/y', 'loss/output_loss/softmax_cross_entropy_with_logits/Sub', 'loss/output_loss/softmax_cross_entropy_with_logits/Slice/begin', 'loss/output_loss/softmax_cross_entropy_with_logits/Slice/size', 'loss/output_loss/softmax_cross_entropy_with_logits/Slice', 'loss/output_loss/softmax_cross_entropy_with_logits/concat/values_0', 'loss/output_loss/softmax_cross_entropy_with_logits/concat/axis', 'loss/output_loss/softmax_cross_entropy_with_logits/concat', 'loss/output_loss/softmax_cross_entropy_with_logits/Reshape', 'loss/output_loss/softmax_cross_entropy_with_logits/Rank_2', 'loss/output_loss/softmax_cross_entropy_with_logits/Shape_2', 'loss/output_loss/softmax_cross_entropy_with_logits/Sub_1/y', 'loss/output_loss/softmax_cross_entropy_with_logits/Sub_1', 'loss/output_loss/softmax_cross_entropy_with_logits/Slice_1/begin', 'loss/output_loss/softmax_cross_entropy_with_logits/Slice_1/size', 'loss/output_loss/softmax_cross_entropy_with_logits/Slice_1', 'loss/output_loss/softmax_cross_entropy_with_logits/concat_1/values_0', 'loss/output_loss/softmax_cross_entropy_with_logits/concat_1/axis', 'loss/output_loss/softmax_cross_entropy_with_logits/concat_1', 'loss/output_loss/softmax_cross_entropy_with_logits/Reshape_1', 'loss/output_loss/softmax_cross_entropy_with_logits', 'loss/output_loss/softmax_cross_entropy_with_logits/Sub_2/y', 'loss/output_loss/softmax_cross_entropy_with_logits/Sub_2', 'loss/output_loss/softmax_cross_entropy_with_logits/Slice_2/begin', 'loss/output_loss/softmax_cross_entropy_with_logits/Slice_2/size', 'loss/output_loss/softmax_cross_entropy_with_logits/Slice_2', 'loss/output_loss/softmax_cross_entropy_with_logits/Reshape_2', 'loss/output_loss/weighted_loss/Const', 'loss/output_loss/weighted_loss/broadcast_weights/assert_broadcastable/weights/shape', 'loss/output_loss/weighted_loss/broadcast_weights/assert_broadcastable/weights/rank', 'loss/output_loss/weighted_loss/broadcast_weights/assert_broadcastable/values/shape', 'loss/output_loss/weighted_loss/broadcast_weights/assert_broadcastable/values/rank', 'loss/output_loss/weighted_loss/broadcast_weights/assert_broadcastable/static_scalar_check_success', 'loss/output_loss/weighted_loss/broadcast_weights/ones_like/Shape', 'loss/output_loss/weighted_loss/broadcast_weights/ones_like/Const', 'loss/output_loss/weighted_loss/broadcast_weights/ones_like', 'loss/output_loss/weighted_loss/broadcast_weights', 'loss/output_loss/weighted_loss/Mul', 'loss/output_loss/Const_1', 'loss/output_loss/Sum', 'loss/output_loss/num_elements', 'loss/output_loss/num_elements/Cast', 'loss/output_loss/Const_2', 'loss/output_loss/Sum_1', 'loss/output_loss/value', 'loss/mul/x', 'loss/mul', 'keras_learning_phase/input', 'keras_learning_phase', 'SGD/gradients/Shape', 'SGD/gradients/grad_ys_0', 'SGD/gradients/Fill', 'SGD/gradients/loss/mul_grad/Mul', 'SGD/gradients/loss/mul_grad/Mul_1', 'SGD/gradients/loss/output_loss/value_grad/Shape', 'SGD/gradients/loss/output_loss/value_grad/Shape_1', 'SGD/gradients/loss/output_loss/value_grad/BroadcastGradientArgs', 'SGD/gradients/loss/output_loss/value_grad/div_no_nan', 'SGD/gradients/loss/output_loss/value_grad/Sum', 'SGD/gradients/loss/output_loss/value_grad/Reshape', 'SGD/gradients/loss/output_loss/value_grad/Neg', 'SGD/gradients/loss/output_loss/value_grad/div_no_nan_1', 'SGD/gradients/loss/output_loss/value_grad/div_no_nan_2', 'SGD/gradients/loss/output_loss/value_grad/mul', 'SGD/gradients/loss/output_loss/value_grad/Sum_1', 'SGD/gradients/loss/output_loss/value_grad/Reshape_1', 'SGD/gradients/loss/output_loss/Sum_1_grad/Reshape/shape', 'SGD/gradients/loss/output_loss/Sum_1_grad/Reshape', 'SGD/gradients/loss/output_loss/Sum_1_grad/Const', 'SGD/gradients/loss/output_loss/Sum_1_grad/Tile', 'SGD/gradients/loss/output_loss/Sum_grad/Reshape/shape', 'SGD/gradients/loss/output_loss/Sum_grad/Reshape', 'SGD/gradients/loss/output_loss/Sum_grad/Shape', 'SGD/gradients/loss/output_loss/Sum_grad/Tile', 'SGD/gradients/loss/output_loss/weighted_loss/Mul_grad/Shape', 'SGD/gradients/loss/output_loss/weighted_loss/Mul_grad/Shape_1', 'SGD/gradients/loss/output_loss/weighted_loss/Mul_grad/BroadcastGradientArgs', 'SGD/gradients/loss/output_loss/weighted_loss/Mul_grad/Mul', 'SGD/gradients/loss/output_loss/weighted_loss/Mul_grad/Sum', 'SGD/gradients/loss/output_loss/weighted_loss/Mul_grad/Reshape', 'SGD/gradients/loss/output_loss/weighted_loss/Mul_grad/Mul_1', 'SGD/gradients/loss/output_loss/weighted_loss/Mul_grad/Sum_1', 'SGD/gradients/loss/output_loss/weighted_loss/Mul_grad/Reshape_1', 'SGD/gradients/loss/output_loss/softmax_cross_entropy_with_logits/Reshape_2_grad/Shape', 'SGD/gradients/loss/output_loss/softmax_cross_entropy_with_logits/Reshape_2_grad/Reshape', 'SGD/gradients/zeros_like', 'SGD/gradients/loss/output_loss/softmax_cross_entropy_with_logits_grad/ExpandDims/dim', 'SGD/gradients/loss/output_loss/softmax_cross_entropy_with_logits_grad/ExpandDims', 'SGD/gradients/loss/output_loss/softmax_cross_entropy_with_logits_grad/mul', 'SGD/gradients/loss/output_loss/softmax_cross_entropy_with_logits_grad/LogSoftmax', 'SGD/gradients/loss/output_loss/softmax_cross_entropy_with_logits_grad/Neg', 'SGD/gradients/loss/output_loss/softmax_cross_entropy_with_logits_grad/ExpandDims_1/dim', 'SGD/gradients/loss/output_loss/softmax_cross_entropy_with_logits_grad/ExpandDims_1', 'SGD/gradients/loss/output_loss/softmax_cross_entropy_with_logits_grad/mul_1', 'SGD/gradients/loss/output_loss/softmax_cross_entropy_with_logits/Reshape_grad/Shape', 'SGD/gradients/loss/output_loss/softmax_cross_entropy_with_logits/Reshape_grad/Reshape', 'SGD/gradients/output/BiasAdd_grad/BiasAddGrad', 'SGD/gradients/output/MatMul_grad/MatMul', 'SGD/gradients/output/MatMul_grad/MatMul_1', 'SGD/gradients/activation_2/Relu_grad/ReluGrad', 'SGD/gradients/dense/BiasAdd_grad/BiasAddGrad', 'SGD/gradients/dense/MatMul_grad/MatMul', 'SGD/gradients/dense/MatMul_grad/MatMul_1', 'SGD/gradients/Reshape_grad/Shape', 'SGD/gradients/Reshape_grad/Reshape', 'SGD/gradients/activation_1/Relu_grad/ReluGrad', 'SGD/gradients/conv2d_1/BiasAdd_grad/BiasAddGrad', 'SGD/gradients/conv2d_1/Conv2D_grad/ShapeN', 'SGD/gradients/conv2d_1/Conv2D_grad/Conv2DBackpropInput', 'SGD/gradients/conv2d_1/Conv2D_grad/Conv2DBackpropFilter', 'SGD/gradients/max_pooling2d/MaxPool_grad/MaxPoolGrad', 'SGD/gradients/activation/Relu_grad/ReluGrad', 'SGD/gradients/conv2d/BiasAdd_grad/BiasAddGrad', 'SGD/gradients/conv2d/Conv2D_grad/ShapeN', 'SGD/gradients/conv2d/Conv2D_grad/Conv2DBackpropInput', 'SGD/gradients/conv2d/Conv2D_grad/Conv2DBackpropFilter', 'SGD/iter/Initializer/zeros', 'SGD/iter', 'SGD/iter/IsInitialized/VarIsInitializedOp', 'SGD/iter/Assign', 'SGD/iter/Read/ReadVariableOp', 'SGD/decay/Initializer/initial_value', 'SGD/decay', 'SGD/decay/IsInitialized/VarIsInitializedOp', 'SGD/decay/Assign', 'SGD/decay/Read/ReadVariableOp', 'SGD/learning_rate/Initializer/initial_value', 'SGD/learning_rate', 'SGD/learning_rate/IsInitialized/VarIsInitializedOp', 'SGD/learning_rate/Assign', 'SGD/learning_rate/Read/ReadVariableOp', 'SGD/momentum/Initializer/initial_value', 'SGD/momentum', 'SGD/momentum/IsInitialized/VarIsInitializedOp', 'SGD/momentum/Assign', 'SGD/momentum/Read/ReadVariableOp', 'SGD/conv2d/kernel/momentum/Initializer/zeros', 'SGD/conv2d/kernel/momentum', 'SGD/conv2d/kernel/momentum/IsInitialized/VarIsInitializedOp', 'SGD/conv2d/kernel/momentum/Assign', 'SGD/conv2d/kernel/momentum/Read/ReadVariableOp', 'SGD/conv2d/bias/momentum/Initializer/zeros', 'SGD/conv2d/bias/momentum', 'SGD/conv2d/bias/momentum/IsInitialized/VarIsInitializedOp', 'SGD/conv2d/bias/momentum/Assign', 'SGD/conv2d/bias/momentum/Read/ReadVariableOp', 'SGD/conv2d_1/kernel/momentum/Initializer/zeros/shape_as_tensor', 'SGD/conv2d_1/kernel/momentum/Initializer/zeros/Const', 'SGD/conv2d_1/kernel/momentum/Initializer/zeros', 'SGD/conv2d_1/kernel/momentum', 'SGD/conv2d_1/kernel/momentum/IsInitialized/VarIsInitializedOp', 'SGD/conv2d_1/kernel/momentum/Assign', 'SGD/conv2d_1/kernel/momentum/Read/ReadVariableOp', 'SGD/conv2d_1/bias/momentum/Initializer/zeros', 'SGD/conv2d_1/bias/momentum', 'SGD/conv2d_1/bias/momentum/IsInitialized/VarIsInitializedOp', 'SGD/conv2d_1/bias/momentum/Assign', 'SGD/conv2d_1/bias/momentum/Read/ReadVariableOp', 'SGD/dense/kernel/momentum/Initializer/zeros/shape_as_tensor', 'SGD/dense/kernel/momentum/Initializer/zeros/Const', 'SGD/dense/kernel/momentum/Initializer/zeros', 'SGD/dense/kernel/momentum', 'SGD/dense/kernel/momentum/IsInitialized/VarIsInitializedOp', 'SGD/dense/kernel/momentum/Assign', 'SGD/dense/kernel/momentum/Read/ReadVariableOp', 'SGD/dense/bias/momentum/Initializer/zeros', 'SGD/dense/bias/momentum', 'SGD/dense/bias/momentum/IsInitialized/VarIsInitializedOp', 'SGD/dense/bias/momentum/Assign', 'SGD/dense/bias/momentum/Read/ReadVariableOp', 'SGD/output/kernel/momentum/Initializer/zeros/shape_as_tensor', 'SGD/output/kernel/momentum/Initializer/zeros/Const', 'SGD/output/kernel/momentum/Initializer/zeros', 'SGD/output/kernel/momentum', 'SGD/output/kernel/momentum/IsInitialized/VarIsInitializedOp', 'SGD/output/kernel/momentum/Assign', 'SGD/output/kernel/momentum/Read/ReadVariableOp', 'SGD/output/bias/momentum/Initializer/zeros', 'SGD/output/bias/momentum', 'SGD/output/bias/momentum/IsInitialized/VarIsInitializedOp', 'SGD/output/bias/momentum/Assign', 'SGD/output/bias/momentum/Read/ReadVariableOp', 'SGD/SGD/update_conv2d/kernel/ResourceApplyKerasMomentum/ReadVariableOp', 'SGD/SGD/update_conv2d/kernel/ResourceApplyKerasMomentum/ReadVariableOp_1', 'SGD/SGD/update_conv2d/kernel/ResourceApplyKerasMomentum', 'SGD/SGD/update_conv2d/bias/ResourceApplyKerasMomentum/ReadVariableOp', 'SGD/SGD/update_conv2d/bias/ResourceApplyKerasMomentum/ReadVariableOp_1', 'SGD/SGD/update_conv2d/bias/ResourceApplyKerasMomentum', 'SGD/SGD/update_conv2d_1/kernel/ResourceApplyKerasMomentum/ReadVariableOp', 'SGD/SGD/update_conv2d_1/kernel/ResourceApplyKerasMomentum/ReadVariableOp_1', 'SGD/SGD/update_conv2d_1/kernel/ResourceApplyKerasMomentum', 'SGD/SGD/update_conv2d_1/bias/ResourceApplyKerasMomentum/ReadVariableOp', 'SGD/SGD/update_conv2d_1/bias/ResourceApplyKerasMomentum/ReadVariableOp_1', 'SGD/SGD/update_conv2d_1/bias/ResourceApplyKerasMomentum', 'SGD/SGD/update_dense/kernel/ResourceApplyKerasMomentum/ReadVariableOp', 'SGD/SGD/update_dense/kernel/ResourceApplyKerasMomentum/ReadVariableOp_1', 'SGD/SGD/update_dense/kernel/ResourceApplyKerasMomentum', 'SGD/SGD/update_dense/bias/ResourceApplyKerasMomentum/ReadVariableOp', 'SGD/SGD/update_dense/bias/ResourceApplyKerasMomentum/ReadVariableOp_1', 'SGD/SGD/update_dense/bias/ResourceApplyKerasMomentum', 'SGD/SGD/update_output/kernel/ResourceApplyKerasMomentum/ReadVariableOp', 'SGD/SGD/update_output/kernel/ResourceApplyKerasMomentum/ReadVariableOp_1', 'SGD/SGD/update_output/kernel/ResourceApplyKerasMomentum', 'SGD/SGD/update_output/bias/ResourceApplyKerasMomentum/ReadVariableOp', 'SGD/SGD/update_output/bias/ResourceApplyKerasMomentum/ReadVariableOp_1', 'SGD/SGD/update_output/bias/ResourceApplyKerasMomentum', 'SGD/SGD/Const', 'SGD/SGD/AssignAddVariableOp', 'SGD/SGD/ReadVariableOp', 'training_1/group_deps', 'Placeholder', 'AssignVariableOp', 'ReadVariableOp', 'Placeholder_1', 'AssignVariableOp_1', 'ReadVariableOp_1', 'VarIsInitializedOp_4', 'VarIsInitializedOp_5', 'VarIsInitializedOp_6', 'VarIsInitializedOp_7', 'VarIsInitializedOp_8', 'VarIsInitializedOp_9', 'VarIsInitializedOp_10', 'VarIsInitializedOp_11', 'VarIsInitializedOp_12', 'VarIsInitializedOp_13', 'VarIsInitializedOp_14', 'VarIsInitializedOp_15', 'VarIsInitializedOp_16', 'VarIsInitializedOp_17', 'VarIsInitializedOp_18', 'VarIsInitializedOp_19', 'VarIsInitializedOp_20', 'VarIsInitializedOp_21', 'init_1', 'evaluation/group_deps']\n"
     ]
    },
    {
     "name": "stdout",
     "output_type": "stream",
     "text": [
      "nodes ['input', 'conv2d/kernel', 'conv2d/bias', 'conv2d/Conv2D', 'conv2d/BiasAdd', 'activation/Relu', 'max_pooling2d/MaxPool', 'conv2d_1/kernel', 'conv2d_1/bias', 'conv2d_1/Conv2D', 'conv2d_1/BiasAdd', 'activation_1/Relu', 'Reshape/shape', 'Reshape', 'dense/kernel', 'dense/bias', 'dense/MatMul', 'dense/BiasAdd', 'activation_2/Relu', 'output/kernel', 'output/bias', 'output/MatMul', 'output/BiasAdd', 'SGD/iter', 'SGD/decay', 'SGD/learning_rate', 'SGD/momentum', 'SGD/conv2d/kernel/momentum', 'SGD/conv2d/bias/momentum', 'SGD/conv2d_1/kernel/momentum', 'SGD/conv2d_1/bias/momentum', 'SGD/dense/kernel/momentum', 'SGD/dense/bias/momentum', 'SGD/output/kernel/momentum', 'SGD/output/bias/momentum']\n",
      "Model saved to: mlp.pb\n"
     ]
    }
   ],
   "source": [
    "save_model(tf.compat.v1.keras.backend.get_session(), [\"output/BiasAdd\"], \"./models\", \"mlp\")"
   ]
  },
  {
   "cell_type": "markdown",
   "metadata": {},
   "source": [
    "## Generating the Homorphic Encryption Configuration\n",
    "We generate the parameters for the encryption. These parameteres usually set information about the Learning with Error (LWE) problem. The explanation of how to obtain the parameters is inline with the code. It is mainly extracted from the documentation of Intel nGraph HE Transformer Github Repository. After having executed this section code, a file 'config.json' has been generated with the configuration for the Neural Network."
   ]
  },
  {
   "cell_type": "code",
   "execution_count": 12,
   "metadata": {},
   "outputs": [
    {
     "name": "stdout",
     "output_type": "stream",
     "text": [
      "{'scheme_name': 'HE_SEAL', 'poly_modulus_degree': 8192, 'security_level': 128, 'coeff_modulus': [30, 24, 24, 24, 24, 24, 24, 30], 'scale': 16777216, 'complex_packing': False}\n",
      "Generated configuration in config.json\n"
     ]
    }
   ],
   "source": [
    "def get_N(total_coefficient_modulus_bit_width, security_level, sec_type='classical'):\n",
    "    sec = {\n",
    "        'classical':{\n",
    "            128:{\n",
    "                1024:  27,\n",
    "                2048:  54,\n",
    "                4096:  109,\n",
    "                8192:  218,\n",
    "                16384: 438,\n",
    "                32768: 881\n",
    "            },\n",
    "            192:{\n",
    "                1024:  19,\n",
    "                2048:  37,\n",
    "                4096:  75,\n",
    "                8192:  152,\n",
    "                16384: 305,\n",
    "                32768: 611\n",
    "            },\n",
    "            256:{\n",
    "                1024:  14,\n",
    "                2048:  29,\n",
    "                4096:  58,\n",
    "                8192:  118,\n",
    "                16384: 237,\n",
    "                32768: 476\n",
    "            }\n",
    "        },\n",
    "        'quantum':{\n",
    "           128:{\n",
    "                1024:  25,\n",
    "                2048:  51,\n",
    "                4096:  101,\n",
    "                8192:  202,\n",
    "                16384: 411,\n",
    "                32768: 827\n",
    "            },\n",
    "            192:{\n",
    "                1024:  17,\n",
    "                2048:  35,\n",
    "                4096:  70,\n",
    "                8192:  141,\n",
    "                16384: 284,\n",
    "                32768: 571\n",
    "            },\n",
    "            256:{\n",
    "                1024:  13,\n",
    "                2048:  27,\n",
    "                4096:  54,\n",
    "                8192:  109,\n",
    "                16384: 220,\n",
    "                32768: 443\n",
    "            }\n",
    "        }\n",
    "    }\n",
    "    log2q_prev = 0\n",
    "    for n, log2q in sec[sec_type][security_level].items():\n",
    "        if log2q_prev < total_coefficient_modulus_bit_width < log2q:\n",
    "            return n\n",
    "        log2q_prev = log2q\n",
    "    return n\n",
    "def define_encryption_params(security_level):\n",
    "    # Select the security level\n",
    "    # Compute the multiplicative depth of the computational graph\n",
    "    L = 8 # Assumed from configuration\n",
    "    # Estimate the bit-precission s, required. According to Intel, the best tradeoff is ~24 bits\n",
    "    s = 24\n",
    "    # Choose the coeff_modulus = [s, s, s, ..., s]. A list of L coefficient moduli, each with s bits. Set the scale to s.\n",
    "    coeff_modulus = [s] * L\n",
    "    coeff_modulus[0] = 30\n",
    "    coeff_modulus[-1] = 30\n",
    "    scale = s\n",
    "    # Compute the total coefficient modulus bit width, L * s in the above parameter selection.\n",
    "    total_coefficient_modulus_bit_width = L * s\n",
    "    # Set the poly_modulus_degree to the smallest power of two, with coefficient modulus smaller than the maximum allowed.\n",
    "    # Based on the table of recommended parameters. \n",
    "    N = get_N(total_coefficient_modulus_bit_width, security_level)\n",
    "    poly_modulus_degree = N\n",
    "    # For best performance, we should choose the batch_size to max_batch_size\n",
    "    max_batch_size = poly_modulus_degree / 2\n",
    "    # We should only include the complex packing if there are polynomial activations.\n",
    "    # That is, if we make use of our own activation functions\n",
    "    complex_packing = False\n",
    "    \n",
    "    enc_params = {\n",
    "        'scheme_name': 'HE_SEAL',          # Fixed, to use the HE backend\n",
    "        'poly_modulus_degree': poly_modulus_degree,       # A power of 2 {1024, 2048, 4096, 8192, 16384}\n",
    "        'security_level': security_level,             # The security we want to ensure {0, 128, 192, 256}\n",
    "        'coeff_modulus': coeff_modulus, # A number inbetween 1 and 60\n",
    "        'scale': 2 ** s,                  # The fixed bit precission of the encoding. (log2(scale) is the number of bits)\n",
    "        'complex_packing': complex_packing,\n",
    "    }\n",
    "    print(enc_params)\n",
    "    return enc_params\n",
    "def gen_json_params_file(filename, security_level=128):\n",
    "    enc_params_dict = define_encryption_params(security_level)\n",
    "    enc_params_json = json.dumps(enc_params_dict)\n",
    "    with open(filename, 'w+') as file:\n",
    "        file.write(enc_params_json)\n",
    "    print(\"Generated configuration in %s\" %(filename))\n",
    "    \n",
    "gen_json_params_file('config.json', security_level=128)"
   ]
  },
  {
   "cell_type": "markdown",
   "metadata": {},
   "source": [
    "With the cell below we generate a configuration for the session. This configuration establishes, among other things that the execution is carried out by the \"HE_SEAL\" backend. We also establish where 'config.json' file."
   ]
  },
  {
   "cell_type": "code",
   "execution_count": 13,
   "metadata": {},
   "outputs": [],
   "source": [
    "\"\"\"python test.py --batch_size=100 \\\n",
    "               --backend=HE_SEAL \\\n",
    "               --model_file=models/cryptonets.pb \\\n",
    "               --encrypt_server_data=true \\\n",
    "               --encryption_parameters=$HE_TRANSFORMER/configs/he_seal_ckks_config_N13_L8.json\n",
    "\"\"\"\n",
    "def get_config_for_ngraph_server(tensor_param_name):\n",
    "    rewriter_options = rewriter_config_pb2.RewriterConfig()\n",
    "    rewriter_options.meta_optimizer_iterations = rewriter_config_pb2.RewriterConfig.ONE\n",
    "    rewriter_options.min_graph_nodes = -1\n",
    "    server_config = rewriter_options.custom_optimizers.add()\n",
    "    server_config.name = \"ngraph-optimizer\"\n",
    "    server_config.parameter_map[\"ngraph_backend\"].s = b'HE_SEAL'\n",
    "    server_config.parameter_map[\"device_id\"].s = b\"\"\n",
    "    server_config.parameter_map[\"encryption_parameters\"].s = b'config.json'\n",
    "    server_config.parameter_map[\"enable_client\"].s = b'false'\n",
    "    # Only server\n",
    "    server_config.parameter_map[tensor_param_name].s = b\"encrypt\"\n",
    "    # With client\n",
    "    #server_config.parameter_map[tensor_param_name].s = b\"client_input\"\n",
    "    # Pack data\n",
    "    server_config.parameter_map[tensor_param_name].s += b\",packed\"\n",
    "\n",
    "    config = tf.compat.v1.ConfigProto()\n",
    "    config.MergeFrom(\n",
    "            tf.compat.v1.ConfigProto(\n",
    "                graph_options=tf.compat.v1.GraphOptions(\n",
    "                    rewrite_options=rewriter_options)))\n",
    "    return config"
   ]
  },
  {
   "cell_type": "markdown",
   "metadata": {},
   "source": [
    "<span style=\"color:red\">__NOTE__: It is not possible to encode more than __4096 samples__ at the same time. Thus, we only include up to that number. If we put more training samples, we might encounter problems.</span>"
   ]
  },
  {
   "cell_type": "code",
   "execution_count": 14,
   "metadata": {},
   "outputs": [
    {
     "name": "stdout",
     "output_type": "stream",
     "text": [
      "Model restored\n"
     ]
    }
   ],
   "source": [
    "tf.reset_default_graph()\n",
    "(x_train, y_train, x_test, y_test) = load_mnist()\n",
    "x_test = x_test[:4096]\n",
    "y_test = y_test[:4096]\n",
    "tf.import_graph_def(load_pb_file('./models/cryptonets.pb'))\n",
    "# Get input / output tensors\n",
    "x_input = tf.compat.v1.get_default_graph().get_tensor_by_name('import/input:0')\n",
    "y_output = tf.compat.v1.get_default_graph().get_tensor_by_name('import/output/BiasAdd:0')"
   ]
  },
  {
   "cell_type": "markdown",
   "metadata": {},
   "source": [
    "### The code on the cell below, runs on homomorphically encrypted data.\n",
    "\n",
    "The code is using the HE Transformer backend, and runs on homomorphically encrypted data."
   ]
  },
  {
   "cell_type": "code",
   "execution_count": 15,
   "metadata": {},
   "outputs": [
    {
     "name": "stdout",
     "output_type": "stream",
     "text": [
      "X Test Size (4096, 28, 28, 1)\n",
      "Total time(s) 7.999\n",
      "Error count 81 of elements.\n",
      "Accuracy: 0.980225 \n"
     ]
    }
   ],
   "source": [
    "config = get_config_for_ngraph_server(x_input.name)\n",
    "with tf.compat.v1.Session(config=config) as sess:\n",
    "    sess.run(tf.compat.v1.global_variables_initializer())\n",
    "    start_time = time.time()\n",
    "    print(\"X Test Size\", x_test.shape)\n",
    "    y_hat = y_output.eval(feed_dict={x_input: x_test})\n",
    "    elasped_time = time.time() - start_time\n",
    "    print(\"Total time(s)\", np.round(elasped_time, 3))\n",
    "    y_test_label = np.argmax(y_test, 1)\n",
    "    #print(\"y_hat\", np.round(y_hat, 2))\n",
    "    y_pred = np.argmax(y_hat, 1)\n",
    "    correct_prediction = np.equal(y_pred, y_test_label)\n",
    "    error_count = np.size(correct_prediction) - np.sum(correct_prediction)\n",
    "    test_accuracy = np.mean(correct_prediction)\n",
    "\n",
    "    print(\"Error count\", error_count, \"of elements.\")\n",
    "    print(\"Accuracy: %g \" % test_accuracy)"
   ]
  },
  {
   "cell_type": "markdown",
   "metadata": {},
   "source": [
    "## Trying the client-server example"
   ]
  },
  {
   "cell_type": "code",
   "execution_count": 31,
   "metadata": {},
   "outputs": [],
   "source": [
    "\"\"\"\n",
    "python test.py --backend=HE_SEAL \\\n",
    "               --model_file=models/cryptonets.pb \\\n",
    "               --enable_client=true \\\n",
    "               --encryption_parameters=$HE_TRANSFORMER/configs/he_seal_ckks_config_N13_L8.json\n",
    "\"\"\"\n",
    "def get_config_for_ngraph_client(tensor_param_name):\n",
    "    rewriter_options = rewriter_config_pb2.RewriterConfig()\n",
    "    rewriter_options.meta_optimizer_iterations = rewriter_config_pb2.RewriterConfig.ONE\n",
    "    rewriter_options.min_graph_nodes = -1\n",
    "    server_config = rewriter_options.custom_optimizers.add()\n",
    "    server_config.name = \"ngraph-optimizer\"\n",
    "    server_config.parameter_map[\"ngraph_backend\"].s = b'HE_SEAL'\n",
    "    server_config.parameter_map[\"device_id\"].s = b\"\"\n",
    "    server_config.parameter_map[\"encryption_parameters\"].s = b'config.json'\n",
    "    server_config.parameter_map[\"enable_client\"].s = str(True).encode()\n",
    "    \n",
    "    server_config.parameter_map[\"enable_gc\"].s = b'False'\n",
    "    server_config.parameter_map[\"mask_gc_inputs\"].s = b'False'\n",
    "    server_config.parameter_map[\"mask_gc_outputs\"].s = b'False'\n",
    "    server_config.parameter_map[\"num_gc_threads\"].s = b'1'\n",
    "    # Only server\n",
    "    # server_config.parameter_map[tensor_param_name].s = b\"encrypt\"\n",
    "    # With client\n",
    "    server_config.parameter_map[tensor_param_name].s = b\"client_input\"\n",
    "    # Pack data\n",
    "    server_config.parameter_map[tensor_param_name].s += b\",packed\"\n",
    "\n",
    "    config = tf.compat.v1.ConfigProto()\n",
    "    config.MergeFrom(\n",
    "            tf.compat.v1.ConfigProto(\n",
    "                graph_options=tf.compat.v1.GraphOptions(\n",
    "                    rewrite_options=rewriter_options)))\n",
    "    return config\n"
   ]
  },
  {
   "cell_type": "code",
   "execution_count": 32,
   "metadata": {},
   "outputs": [
    {
     "name": "stdout",
     "output_type": "stream",
     "text": [
      "Model restored\n",
      "total time(s) 0.045\n"
     ]
    }
   ],
   "source": [
    "# %%px --target [1] --noblock\n",
    "tf.reset_default_graph()\n",
    "tf.import_graph_def(load_pb_file('./models/mlp.pb'))\n",
    "# Get input / output tensors\n",
    "x_input = tf.compat.v1.get_default_graph().get_tensor_by_name('import/input:0')\n",
    "y_output = tf.compat.v1.get_default_graph().get_tensor_by_name('import/output/BiasAdd:0')\n",
    "\n",
    "# Create configuration to encrypt input\n",
    "config = get_config_for_ngraph_client(x_input.name)\n",
    "with tf.compat.v1.Session(config=config) as sess:\n",
    "    sess.run(tf.compat.v1.global_variables_initializer())\n",
    "    start_time = time.time()\n",
    "    y_hat = y_output.eval(feed_dict={x_input: x_test})\n",
    "    elasped_time = time.time() - start_time\n",
    "    print(\"total time(s)\", np.round(elasped_time, 3))"
   ]
  },
  {
   "cell_type": "code",
   "execution_count": 22,
   "metadata": {
    "collapsed": true
   },
   "outputs": [
    {
     "ename": "ZeroDivisionError",
     "evalue": "division by zero",
     "output_type": "error",
     "traceback": [
      "\u001b[0;31m---------------------------------------------------------------------------\u001b[0m",
      "\u001b[0;31mZeroDivisionError\u001b[0m                         Traceback (most recent call last)",
      "\u001b[0;32m<ipython-input-22-c0799917ddac>\u001b[0m in \u001b[0;36m<module>\u001b[0;34m\u001b[0m\n\u001b[1;32m      3\u001b[0m                          \u001b[0;34m-\u001b[0m\u001b[0;34m-\u001b[0m\u001b[0mencrypt_data_str\u001b[0m\u001b[0;34m=\u001b[0m\u001b[0mencrypt\u001b[0m\u001b[0;34m\u001b[0m\u001b[0;34m\u001b[0m\u001b[0m\n\u001b[1;32m      4\u001b[0m \"\"\"\n\u001b[0;32m----> 5\u001b[0;31m \u001b[0;36m1\u001b[0m \u001b[0;34m/\u001b[0m \u001b[0;36m0\u001b[0m \u001b[0;31m# To break the execution\u001b[0m\u001b[0;34m\u001b[0m\u001b[0;34m\u001b[0m\u001b[0m\n\u001b[0m\u001b[1;32m      6\u001b[0m \u001b[0;32mimport\u001b[0m \u001b[0mtime\u001b[0m\u001b[0;34m\u001b[0m\u001b[0;34m\u001b[0m\u001b[0m\n\u001b[1;32m      7\u001b[0m \u001b[0;32mimport\u001b[0m \u001b[0margparse\u001b[0m\u001b[0;34m\u001b[0m\u001b[0;34m\u001b[0m\u001b[0m\n",
      "\u001b[0;31mZeroDivisionError\u001b[0m: division by zero"
     ]
    }
   ],
   "source": [
    "\"\"\" \n",
    "python pyclient_mnist.py --batch_size=1024 \\\n",
    "                         --encrypt_data_str=encrypt\n",
    "\"\"\"\n",
    "1 / 0 # To break the execution\n",
    "import time\n",
    "import argparse\n",
    "import numpy as np\n",
    "import sys\n",
    "import os\n",
    "\n",
    "import pyhe_client\n",
    "\n",
    "batch_size = 1024\n",
    "(x_train, y_train, x_test, y_test) = load_mnist()\n",
    "data = x_test[:batch_size].flatten(\"C\")\n",
    "print(\"A\")\n",
    "client = pyhe_client.HESealClient('localhost', 34000, batch_size,\n",
    "                                  {'import/input': (\"encrypt\", data)})\n",
    "\n",
    "print(\"B\")\n",
    "results = np.round(client.get_results(), 2)\n",
    "y_pred_reshape = np.array(results).reshape(batch_size, 10)\n",
    "with np.printoptions(precision=3, suppress=True):\n",
    "    print(y_pred_reshape)\n",
    "\n",
    "y_pred = y_pred_reshape.argmax(axis=1)\n",
    "print(\"y_pred\", y_pred)\n",
    "\n",
    "correct = np.sum(np.equal(y_pred, y_test.argmax(axis=1)))\n",
    "acc = correct / float(FLAGS.batch_size)\n",
    "print(\"correct\", correct)\n",
    "print(\"Accuracy (batch size\", FLAGS.batch_size, \") =\", acc * 100.0, \"%\")"
   ]
  },
  {
   "cell_type": "code",
   "execution_count": 30,
   "metadata": {},
   "outputs": [
    {
     "data": {
      "text/plain": [
       "'True'"
      ]
     },
     "execution_count": 30,
     "metadata": {},
     "output_type": "execute_result"
    }
   ],
   "source": [
    "str(True)"
   ]
  }
 ],
 "metadata": {
  "kernelspec": {
   "display_name": "Python 3",
   "language": "python",
   "name": "python3"
  },
  "language_info": {
   "codemirror_mode": {
    "name": "ipython",
    "version": 3
   },
   "file_extension": ".py",
   "mimetype": "text/x-python",
   "name": "python",
   "nbconvert_exporter": "python",
   "pygments_lexer": "ipython3",
   "version": "3.6.9"
  }
 },
 "nbformat": 4,
 "nbformat_minor": 4
}
